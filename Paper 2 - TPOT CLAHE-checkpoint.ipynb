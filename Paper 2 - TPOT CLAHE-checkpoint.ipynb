{
 "cells": [
  {
   "cell_type": "code",
   "execution_count": 8,
   "metadata": {},
   "outputs": [],
   "source": [
    "import numpy as np\n",
    "import pandas as pd\n",
    "import matplotlib.pyplot as plt\n",
    "import pandas as pd\n",
    "from tpot import TPOTClassifier\n",
    "from sklearn.model_selection import train_test_split\n",
    "from sklearn.metrics import accuracy_score\n",
    "from sklearn.metrics import roc_auc_score\n",
    "from sklearn.metrics import roc_curve, auc\n",
    "from sklearn.metrics import roc_curve \n",
    "from sklearn.preprocessing import LabelEncoder\n",
    "from sklearn.model_selection import train_test_split\n",
    "from sklearn.preprocessing import PolynomialFeatures\n",
    "from sklearn.svm import LinearSVC\n",
    "from tpot.builtins import StackingEstimator\n",
    "from sklearn.ensemble import ExtraTreesClassifier\n",
    "from sklearn import metrics\n",
    "from sklearn.metrics import roc_auc_score\n",
    "from sklearn.metrics import precision_recall_curve\n",
    "from sklearn.metrics import average_precision_score\n",
    "from sklearn.decomposition import PCA"
   ]
  },
  {
   "cell_type": "code",
   "execution_count": 9,
   "metadata": {},
   "outputs": [],
   "source": [
    "df = pd.read_csv('C://Users//Khalis Abd Karim//Desktop//Paper 2//Balanced Paper 2 (CLAHE).csv' , sep = ',' , header = None)"
   ]
  },
  {
   "cell_type": "code",
   "execution_count": 10,
   "metadata": {},
   "outputs": [
    {
     "name": "stdout",
     "output_type": "stream",
     "text": [
      "[[2.13027000e-04 9.88238159e-01 9.88238159e-01 ... 1.49261000e+05\n",
      "  4.11038345e+02 2.29055200e+03]\n",
      " [2.41535000e-04 9.67643011e-01 9.67643011e-01 ... 6.10450000e+04\n",
      "  2.45937481e+02 2.36271600e+03]\n",
      " [1.80474000e-04 9.86331757e-01 9.86331757e-01 ... 1.40108000e+05\n",
      "  3.72257401e+02 2.34781700e+03]\n",
      " ...\n",
      " [1.33899000e-04 9.89737651e-01 9.89737651e-01 ... 1.39071100e+05\n",
      "  4.04871659e+02 1.91689200e+03]\n",
      " [1.00000000e-04 9.90361690e-01 9.90361690e-01 ... 1.31581300e+05\n",
      "  3.95803907e+02 1.71141600e+03]\n",
      " [1.05815000e-04 9.88860704e-01 9.88860704e-01 ... 1.26031600e+05\n",
      "  3.83428049e+02 1.79089560e+03]]\n",
      "[1 1 0 0 1 1 1 0 0 0 0 0 0 1 1 0 0 0 0 1 1 1 0 0 0 0 0 0 0 0 0 0 0 0 0 0 0\n",
      " 0 0 0 0 0 0 0 0 0 0 0 0 0 0 0 0 0 0 0 0 0 0 0 0 0 0 0 0 0 0 0 0 0 0 0 0 0\n",
      " 0 0 0 0 0 0 0 0 0 0 0 0 0 0 0 0 0 0 0 0 0 0 0 0 0 0 1 1 1 1 1 1 1 1 1 1 1\n",
      " 1 1 1 1 1 1 1 1 1 1 1 1 1 1 1 1 1 1 1]\n"
     ]
    }
   ],
   "source": [
    "X = df.iloc[ : , 1:34].values\n",
    "Y = df.iloc[ : , 34].values\n",
    "print (X)\n",
    "print(Y)"
   ]
  },
  {
   "cell_type": "code",
   "execution_count": 11,
   "metadata": {},
   "outputs": [],
   "source": [
    "X_train, X_test, y_train, y_test = train_test_split(X, Y, train_size=0.75, test_size=0.25)"
   ]
  },
  {
   "cell_type": "code",
   "execution_count": 12,
   "metadata": {},
   "outputs": [],
   "source": [
    "tpot = TPOTClassifier(generations=100, population_size=20, verbosity=2)"
   ]
  },
  {
   "cell_type": "code",
   "execution_count": 13,
   "metadata": {},
   "outputs": [
    {
     "data": {
      "application/vnd.jupyter.widget-view+json": {
       "model_id": "",
       "version_major": 2,
       "version_minor": 0
      },
      "text/plain": [
       "SEJveChjaGlsZHJlbj0oSW50UHJvZ3Jlc3ModmFsdWU9MCwgZGVzY3JpcHRpb249dSdPcHRpbWl6YXRpb24gUHJvZ3Jlc3MnLCBtYXg9MjAyMCwgc3R5bGU9UHJvZ3Jlc3NTdHlsZShkZXNjcmnigKY=\n"
      ]
     },
     "metadata": {},
     "output_type": "display_data"
    },
    {
     "name": "stdout",
     "output_type": "stream",
     "text": [
      "Generation 1 - Current best internal CV score: 0.885789473684\n",
      "Generation 2 - Current best internal CV score: 0.885789473684\n",
      "Generation 3 - Current best internal CV score: 0.895789473684\n",
      "Generation 4 - Current best internal CV score: 0.896315789474\n",
      "Generation 5 - Current best internal CV score: 0.896315789474\n",
      "Generation 6 - Current best internal CV score: 0.896315789474\n",
      "Generation 7 - Current best internal CV score: 0.906315789474\n",
      "Generation 8 - Current best internal CV score: 0.906315789474\n",
      "Generation 9 - Current best internal CV score: 0.906315789474\n",
      "Generation 10 - Current best internal CV score: 0.906315789474\n",
      "Generation 11 - Current best internal CV score: 0.906315789474\n",
      "Generation 12 - Current best internal CV score: 0.906315789474\n",
      "Generation 13 - Current best internal CV score: 0.906315789474\n",
      "Generation 14 - Current best internal CV score: 0.906315789474\n",
      "Generation 15 - Current best internal CV score: 0.906315789474\n",
      "Generation 16 - Current best internal CV score: 0.906315789474\n",
      "Generation 17 - Current best internal CV score: 0.906315789474\n",
      "Generation 18 - Current best internal CV score: 0.906842105263\n",
      "Generation 19 - Current best internal CV score: 0.906842105263\n",
      "Generation 20 - Current best internal CV score: 0.916842105263\n",
      "Generation 21 - Current best internal CV score: 0.916842105263\n",
      "Generation 22 - Current best internal CV score: 0.916842105263\n",
      "Generation 23 - Current best internal CV score: 0.916842105263\n",
      "Generation 24 - Current best internal CV score: 0.916842105263\n",
      "Generation 25 - Current best internal CV score: 0.916842105263\n",
      "Generation 26 - Current best internal CV score: 0.916842105263\n",
      "Generation 27 - Current best internal CV score: 0.916842105263\n",
      "Generation 28 - Current best internal CV score: 0.916842105263\n",
      "Generation 29 - Current best internal CV score: 0.916842105263\n",
      "Generation 30 - Current best internal CV score: 0.916842105263\n",
      "Generation 31 - Current best internal CV score: 0.916842105263\n",
      "Generation 32 - Current best internal CV score: 0.916842105263\n",
      "Generation 33 - Current best internal CV score: 0.916842105263\n",
      "Generation 34 - Current best internal CV score: 0.916842105263\n",
      "Generation 35 - Current best internal CV score: 0.916842105263\n",
      "Generation 36 - Current best internal CV score: 0.916842105263\n",
      "Generation 37 - Current best internal CV score: 0.916842105263\n",
      "Generation 38 - Current best internal CV score: 0.927894736842\n",
      "Generation 39 - Current best internal CV score: 0.927894736842\n",
      "Generation 40 - Current best internal CV score: 0.927894736842\n",
      "Generation 41 - Current best internal CV score: 0.927894736842\n",
      "Generation 42 - Current best internal CV score: 0.927894736842\n",
      "Generation 43 - Current best internal CV score: 0.927894736842\n",
      "Generation 44 - Current best internal CV score: 0.927894736842\n",
      "Generation 45 - Current best internal CV score: 0.927894736842\n",
      "Generation 46 - Current best internal CV score: 0.927894736842\n",
      "Generation 47 - Current best internal CV score: 0.937894736842\n",
      "Generation 48 - Current best internal CV score: 0.937894736842\n",
      "Generation 49 - Current best internal CV score: 0.937894736842\n",
      "Generation 50 - Current best internal CV score: 0.937894736842\n",
      "Generation 51 - Current best internal CV score: 0.937894736842\n",
      "Generation 52 - Current best internal CV score: 0.937894736842\n",
      "Generation 53 - Current best internal CV score: 0.937894736842\n",
      "Generation 54 - Current best internal CV score: 0.937894736842\n",
      "Generation 55 - Current best internal CV score: 0.937894736842\n",
      "Generation 56 - Current best internal CV score: 0.937894736842\n",
      "Generation 57 - Current best internal CV score: 0.937894736842\n",
      "Generation 58 - Current best internal CV score: 0.937894736842\n",
      "Generation 59 - Current best internal CV score: 0.937894736842\n",
      "Generation 60 - Current best internal CV score: 0.937894736842\n",
      "Generation 61 - Current best internal CV score: 0.937894736842\n",
      "Generation 62 - Current best internal CV score: 0.937894736842\n",
      "Generation 63 - Current best internal CV score: 0.937894736842\n",
      "Generation 64 - Current best internal CV score: 0.937894736842\n",
      "Generation 65 - Current best internal CV score: 0.937894736842\n",
      "Generation 66 - Current best internal CV score: 0.937894736842\n",
      "Generation 67 - Current best internal CV score: 0.937894736842\n",
      "Generation 68 - Current best internal CV score: 0.937894736842\n",
      "Generation 69 - Current best internal CV score: 0.937894736842\n",
      "Generation 70 - Current best internal CV score: 0.937894736842\n",
      "Generation 71 - Current best internal CV score: 0.937894736842\n",
      "Generation 72 - Current best internal CV score: 0.937894736842\n",
      "Generation 73 - Current best internal CV score: 0.937894736842\n",
      "Generation 74 - Current best internal CV score: 0.937894736842\n",
      "Generation 75 - Current best internal CV score: 0.937894736842\n",
      "Generation 76 - Current best internal CV score: 0.937894736842\n",
      "Generation 77 - Current best internal CV score: 0.937894736842\n",
      "Generation 78 - Current best internal CV score: 0.937894736842\n",
      "Generation 79 - Current best internal CV score: 0.937894736842\n",
      "Generation 80 - Current best internal CV score: 0.937894736842\n",
      "Generation 81 - Current best internal CV score: 0.937894736842\n",
      "Generation 82 - Current best internal CV score: 0.937894736842\n",
      "Generation 83 - Current best internal CV score: 0.937894736842\n",
      "Generation 84 - Current best internal CV score: 0.937894736842\n",
      "Generation 85 - Current best internal CV score: 0.937894736842\n",
      "Generation 86 - Current best internal CV score: 0.937894736842\n",
      "Generation 87 - Current best internal CV score: 0.937894736842\n",
      "Generation 88 - Current best internal CV score: 0.937894736842\n",
      "Generation 89 - Current best internal CV score: 0.937894736842\n",
      "Generation 90 - Current best internal CV score: 0.937894736842\n",
      "Generation 91 - Current best internal CV score: 0.937894736842\n",
      "Generation 92 - Current best internal CV score: 0.937894736842\n",
      "Generation 93 - Current best internal CV score: 0.937894736842\n",
      "Generation 94 - Current best internal CV score: 0.937894736842\n",
      "Generation 95 - Current best internal CV score: 0.937894736842\n",
      "Generation 96 - Current best internal CV score: 0.937894736842\n",
      "Generation 97 - Current best internal CV score: 0.937894736842\n",
      "Generation 98 - Current best internal CV score: 0.937894736842\n",
      "Generation 99 - Current best internal CV score: 0.937894736842\n",
      "Generation 100 - Current best internal CV score: 0.937894736842\n",
      "\n",
      "Best pipeline: RandomForestClassifier(RFE(PolynomialFeatures(input_matrix, degree=2, include_bias=False, interaction_only=False), criterion=gini, max_features=0.55, n_estimators=100, step=0.9500000000000001), bootstrap=False, criterion=entropy, max_features=0.05, min_samples_leaf=1, min_samples_split=17, n_estimators=100)\n"
     ]
    },
    {
     "data": {
      "text/plain": [
       "TPOTClassifier(config_dict=None, crossover_rate=0.1, cv=5,\n",
       "        disable_update_check=False, early_stop=None, generations=100,\n",
       "        max_eval_time_mins=5, max_time_mins=None, memory=None,\n",
       "        mutation_rate=0.9, n_jobs=1, offspring_size=None,\n",
       "        periodic_checkpoint_folder=None, population_size=20,\n",
       "        random_state=None, scoring=None, subsample=1.0, template=None,\n",
       "        use_dask=False, verbosity=2, warm_start=False)"
      ]
     },
     "execution_count": 13,
     "metadata": {},
     "output_type": "execute_result"
    }
   ],
   "source": [
    "tpot.fit(X_train, y_train)"
   ]
  },
  {
   "cell_type": "code",
   "execution_count": 14,
   "metadata": {},
   "outputs": [
    {
     "name": "stdout",
     "output_type": "stream",
     "text": [
      "0.9393939393939394\n"
     ]
    }
   ],
   "source": [
    "print(tpot.score(X_test, y_test))"
   ]
  },
  {
   "cell_type": "code",
   "execution_count": 15,
   "metadata": {},
   "outputs": [],
   "source": [
    "tpot.export('CLAHE.py')  "
   ]
  },
  {
   "cell_type": "code",
   "execution_count": 16,
   "metadata": {},
   "outputs": [],
   "source": [
    "yhat = tpot.predict_proba(X_test)"
   ]
  },
  {
   "cell_type": "code",
   "execution_count": 17,
   "metadata": {},
   "outputs": [],
   "source": [
    "pos_probs = yhat[:, 1]"
   ]
  },
  {
   "cell_type": "code",
   "execution_count": 18,
   "metadata": {},
   "outputs": [
    {
     "data": {
      "text/plain": [
       "[<matplotlib.lines.Line2D at 0x1b0bb048>]"
      ]
     },
     "execution_count": 18,
     "metadata": {},
     "output_type": "execute_result"
    },
    {
     "data": {
      "image/png": "[encoded data removed]",
      "text/plain": [
       "<Figure size 432x288 with 1 Axes>"
      ]
     },
     "metadata": {
      "needs_background": "light"
     },
     "output_type": "display_data"
    }
   ],
   "source": [
    "import matplotlib.pyplot as pyplot\n",
    "pyplot.plot([0, 1], [0, 1], linestyle='--', label='No Skill')"
   ]
  },
  {
   "cell_type": "code",
   "execution_count": 19,
   "metadata": {},
   "outputs": [],
   "source": [
    "fpr, tpr, _ = roc_curve(y_test, pos_probs)"
   ]
  },
  {
   "cell_type": "code",
   "execution_count": 20,
   "metadata": {},
   "outputs": [
    {
     "data": {
      "image/png": "[encoded data removed]",
      "text/plain": [
       "<Figure size 432x288 with 1 Axes>"
      ]
     },
     "metadata": {
      "needs_background": "light"
     },
     "output_type": "display_data"
    }
   ],
   "source": [
    "pyplot.plot([0, 1], [0, 1], linestyle='--', label='No Skill')\n",
    "# calculate roc curve for model\n",
    "fpr, tpr, _ = roc_curve(y_test, pos_probs)\n",
    "# plot model roc curve\n",
    "pyplot.plot(fpr, tpr, marker='.', label='Logistic')\n",
    "# axis labels\n",
    "pyplot.xlabel('False Positive Rate')\n",
    "pyplot.ylabel('True Positive Rate')\n",
    "# show the legend\n",
    "pyplot.legend()\n",
    "# show the plot\n",
    "pyplot.show()"
   ]
  },
  {
   "cell_type": "code",
   "execution_count": 21,
   "metadata": {},
   "outputs": [
    {
     "name": "stdout",
     "output_type": "stream",
     "text": [
      "TPOT ROC AUC 0.983\n"
     ]
    }
   ],
   "source": [
    "roc_auc = roc_auc_score(y_test, pos_probs)\n",
    "print('TPOT ROC AUC %.3f' % roc_auc)"
   ]
  },
  {
   "cell_type": "code",
   "execution_count": 22,
   "metadata": {},
   "outputs": [],
   "source": [
    "y_pred = tpot.predict(X_test)"
   ]
  },
  {
   "cell_type": "code",
   "execution_count": 23,
   "metadata": {},
   "outputs": [
    {
     "data": {
      "image/png": "[encoded data removed]",
      "text/plain": [
       "<Figure size 432x288 with 1 Axes>"
      ]
     },
     "metadata": {
      "needs_background": "light"
     },
     "output_type": "display_data"
    }
   ],
   "source": [
    "from sklearn.metrics import precision_recall_curve\n",
    "\n",
    "pos_probs = yhat[:, 1]\n",
    "# calculate the no skill line as the proportion of the positive class\n",
    "no_skill = len(Y[Y==1]) / len(Y)\n",
    "# plot the no skill precision-recall curve\n",
    "pyplot.plot([0, 1], [no_skill, no_skill], linestyle='--', label='No Skill')\n",
    "# calculate model precision-recall curve\n",
    "precision, recall, _ = precision_recall_curve(y_test, pos_probs)\n",
    "# plot the model precision-recall curve\n",
    "pyplot.plot(recall, precision, marker='.', label='Logistic')\n",
    "# axis labels\n",
    "pyplot.xlabel('Recall')\n",
    "pyplot.ylabel('Precision')\n",
    "# show the legend\n",
    "pyplot.legend()\n",
    "# show the plot\n",
    "pyplot.show()"
   ]
  },
  {
   "cell_type": "code",
   "execution_count": 24,
   "metadata": {},
   "outputs": [
    {
     "name": "stdout",
     "output_type": "stream",
     "text": [
      "Average precision-recall score: 0.97\n"
     ]
    }
   ],
   "source": [
    "from sklearn.metrics import average_precision_score\n",
    "average_precision = average_precision_score(y_test, pos_probs)\n",
    "\n",
    "print('Average precision-recall score: {0:0.2f}'.format(\n",
    "      average_precision))"
   ]
  },
  {
   "cell_type": "code",
   "execution_count": 25,
   "metadata": {},
   "outputs": [],
   "source": [
    "from sklearn.metrics import confusion_matrix"
   ]
  },
  {
   "cell_type": "code",
   "execution_count": 26,
   "metadata": {},
   "outputs": [
    {
     "data": {
      "image/png": "[encoded data removed]",
      "text/plain": [
       "<Figure size 432x288 with 2 Axes>"
      ]
     },
     "metadata": {
      "needs_background": "light"
     },
     "output_type": "display_data"
    }
   ],
   "source": [
    "import seaborn as sns\n",
    "cm = confusion_matrix(y_test, y_pred)\n",
    "plt.title('Heatmap of Confusion Matrix', fontsize = 12)\n",
    "sns.heatmap(cm, annot = True)\n",
    "plt.show()"
   ]
  },
  {
   "cell_type": "code",
   "execution_count": null,
   "metadata": {},
   "outputs": [],
   "source": []
  }
 ],
 "metadata": {
  "kernelspec": {
   "display_name": "Python 3",
   "language": "python",
   "name": "python3"
  },
  "language_info": {
   "codemirror_mode": {
    "name": "ipython",
    "version": 3
   },
   "file_extension": ".py",
   "mimetype": "text/x-python",
   "name": "python",
   "nbconvert_exporter": "python",
   "pygments_lexer": "ipython3",
   "version": "3.7.6"
  }
 },
 "nbformat": 4,
 "nbformat_minor": 2
}
