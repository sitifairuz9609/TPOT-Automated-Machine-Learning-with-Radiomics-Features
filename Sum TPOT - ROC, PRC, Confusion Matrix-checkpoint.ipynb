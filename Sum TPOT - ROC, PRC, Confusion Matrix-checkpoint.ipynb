{
 "cells": [
  {
   "cell_type": "markdown",
   "metadata": {},
   "source": [
    "# Default Code"
   ]
  },
  {
   "cell_type": "code",
   "execution_count": 18,
   "metadata": {},
   "outputs": [],
   "source": [
    "import numpy as np\n",
    "import pandas as pd\n",
    "import matplotlib.pyplot as plt\n",
    "import pandas as pd\n",
    "from tpot import TPOTClassifier\n",
    "from sklearn.model_selection import train_test_split\n",
    "from sklearn.metrics import accuracy_score\n",
    "from sklearn.metrics import roc_auc_score\n",
    "from sklearn.metrics import roc_curve, auc\n",
    "from sklearn.metrics import roc_curve \n",
    "from sklearn.preprocessing import LabelEncoder\n",
    "from sklearn.model_selection import train_test_split\n",
    "from sklearn.preprocessing import PolynomialFeatures\n",
    "from sklearn.svm import LinearSVC\n",
    "from tpot.builtins import StackingEstimator\n",
    "from sklearn.ensemble import ExtraTreesClassifier\n",
    "from sklearn import metrics\n",
    "from sklearn.metrics import roc_auc_score\n",
    "from sklearn.metrics import precision_recall_curve\n",
    "from sklearn.metrics import average_precision_score\n",
    "from sklearn.decomposition import PCA"
   ]
  },
  {
   "cell_type": "code",
   "execution_count": 19,
   "metadata": {},
   "outputs": [],
   "source": [
    "df = pd.read_csv('C://Users//Khalis Abd Karim//Desktop//Paper 2//Balanced Paper 2 (CLAHE).csv' , sep = ',' , header = None)"
   ]
  },
  {
   "cell_type": "code",
   "execution_count": 20,
   "metadata": {},
   "outputs": [
    {
     "name": "stdout",
     "output_type": "stream",
     "text": [
      "[[2.13027000e-04 9.88238159e-01 9.88238159e-01 ... 1.49261000e+05\n",
      "  4.11038345e+02 2.29055200e+03]\n",
      " [2.41535000e-04 9.67643011e-01 9.67643011e-01 ... 6.10450000e+04\n",
      "  2.45937481e+02 2.36271600e+03]\n",
      " [1.80474000e-04 9.86331757e-01 9.86331757e-01 ... 1.40108000e+05\n",
      "  3.72257401e+02 2.34781700e+03]\n",
      " ...\n",
      " [1.33899000e-04 9.89737651e-01 9.89737651e-01 ... 1.39071100e+05\n",
      "  4.04871659e+02 1.91689200e+03]\n",
      " [1.00000000e-04 9.90361690e-01 9.90361690e-01 ... 1.31581300e+05\n",
      "  3.95803907e+02 1.71141600e+03]\n",
      " [1.05815000e-04 9.88860704e-01 9.88860704e-01 ... 1.26031600e+05\n",
      "  3.83428049e+02 1.79089560e+03]]\n",
      "[1 1 0 0 1 1 1 0 0 0 0 0 0 1 1 0 0 0 0 1 1 1 0 0 0 0 0 0 0 0 0 0 0 0 0 0 0\n",
      " 0 0 0 0 0 0 0 0 0 0 0 0 0 0 0 0 0 0 0 0 0 0 0 0 0 0 0 0 0 0 0 0 0 0 0 0 0\n",
      " 0 0 0 0 0 0 0 0 0 0 0 0 0 0 0 0 0 0 0 0 0 0 0 0 0 0 1 1 1 1 1 1 1 1 1 1 1\n",
      " 1 1 1 1 1 1 1 1 1 1 1 1 1 1 1 1 1 1 1]\n"
     ]
    }
   ],
   "source": [
    "X = df.iloc[ : , 1:34].values\n",
    "Y = df.iloc[ : , 34].values\n",
    "print (X)\n",
    "print(Y)"
   ]
  },
  {
   "cell_type": "code",
   "execution_count": 21,
   "metadata": {},
   "outputs": [],
   "source": [
    "X_train, X_test, y_train, y_test = train_test_split(X, Y, train_size=0.75, test_size=0.25)"
   ]
  },
  {
   "cell_type": "code",
   "execution_count": 22,
   "metadata": {},
   "outputs": [],
   "source": [
    "tpot = TPOTClassifier(generations=50, population_size=20, verbosity=2)"
   ]
  },
  {
   "cell_type": "code",
   "execution_count": 23,
   "metadata": {},
   "outputs": [
    {
     "data": {
      "application/vnd.jupyter.widget-view+json": {
       "model_id": "",
       "version_major": 2,
       "version_minor": 0
      },
      "text/plain": [
       "HBox(children=(FloatProgress(value=0.0, description='Optimization Progress', max=1020.0, style=ProgressStyle(d…"
      ]
     },
     "metadata": {},
     "output_type": "display_data"
    },
    {
     "name": "stdout",
     "output_type": "stream",
     "text": [
      "Generation 1 - Current best internal CV score: 0.8263157894736842\n",
      "Generation 2 - Current best internal CV score: 0.8447368421052632\n",
      "Generation 3 - Current best internal CV score: 0.8452631578947368\n",
      "Generation 4 - Current best internal CV score: 0.8452631578947368\n",
      "Generation 5 - Current best internal CV score: 0.9078947368421051\n",
      "Generation 6 - Current best internal CV score: 0.9078947368421051\n",
      "Generation 7 - Current best internal CV score: 0.9078947368421051\n",
      "Generation 8 - Current best internal CV score: 0.9078947368421051\n",
      "Generation 9 - Current best internal CV score: 0.9078947368421051\n",
      "Generation 10 - Current best internal CV score: 0.908421052631579\n",
      "Generation 11 - Current best internal CV score: 0.908421052631579\n",
      "Generation 12 - Current best internal CV score: 0.908421052631579\n",
      "Generation 13 - Current best internal CV score: 0.9173684210526314\n",
      "Generation 14 - Current best internal CV score: 0.9173684210526314\n",
      "Generation 15 - Current best internal CV score: 0.9173684210526314\n",
      "Generation 16 - Current best internal CV score: 0.9173684210526314\n",
      "Generation 17 - Current best internal CV score: 0.9173684210526314\n",
      "Generation 18 - Current best internal CV score: 0.9173684210526314\n",
      "Generation 19 - Current best internal CV score: 0.9173684210526314\n",
      "Generation 20 - Current best internal CV score: 0.9173684210526314\n",
      "Generation 21 - Current best internal CV score: 0.9173684210526314\n",
      "Generation 22 - Current best internal CV score: 0.9173684210526314\n",
      "Generation 23 - Current best internal CV score: 0.9173684210526314\n",
      "Generation 24 - Current best internal CV score: 0.9173684210526314\n",
      "Generation 25 - Current best internal CV score: 0.9173684210526314\n",
      "Generation 26 - Current best internal CV score: 0.9173684210526314\n",
      "Generation 27 - Current best internal CV score: 0.9173684210526314\n",
      "Generation 28 - Current best internal CV score: 0.9173684210526314\n",
      "Generation 29 - Current best internal CV score: 0.9173684210526314\n",
      "Generation 30 - Current best internal CV score: 0.9173684210526314\n",
      "Generation 31 - Current best internal CV score: 0.9173684210526314\n",
      "Generation 32 - Current best internal CV score: 0.9173684210526314\n",
      "Generation 33 - Current best internal CV score: 0.9378947368421052\n",
      "Generation 34 - Current best internal CV score: 0.9378947368421052\n",
      "Generation 35 - Current best internal CV score: 0.9378947368421052\n",
      "Generation 36 - Current best internal CV score: 0.9378947368421052\n",
      "Generation 37 - Current best internal CV score: 0.9378947368421052\n",
      "Generation 38 - Current best internal CV score: 0.9378947368421052\n",
      "Generation 39 - Current best internal CV score: 0.9378947368421052\n",
      "Generation 40 - Current best internal CV score: 0.9378947368421052\n",
      "Generation 41 - Current best internal CV score: 0.9378947368421052\n",
      "Generation 42 - Current best internal CV score: 0.9378947368421052\n",
      "Generation 43 - Current best internal CV score: 0.9378947368421052\n",
      "Generation 44 - Current best internal CV score: 0.9378947368421052\n",
      "Generation 45 - Current best internal CV score: 0.9378947368421052\n",
      "Generation 46 - Current best internal CV score: 0.9378947368421052\n",
      "Generation 47 - Current best internal CV score: 0.9378947368421052\n",
      "Generation 48 - Current best internal CV score: 0.9378947368421052\n",
      "Generation 49 - Current best internal CV score: 0.9378947368421052\n",
      "Generation 50 - Current best internal CV score: 0.9378947368421052\n",
      "\n",
      "Best pipeline: ExtraTreesClassifier(PCA(input_matrix, iterated_power=3, svd_solver=randomized), bootstrap=False, criterion=gini, max_features=0.25, min_samples_leaf=2, min_samples_split=8, n_estimators=100)\n"
     ]
    },
    {
     "data": {
      "text/plain": [
       "TPOTClassifier(config_dict=None, crossover_rate=0.1, cv=5,\n",
       "               disable_update_check=False, early_stop=None, generations=50,\n",
       "               log_file=<ipykernel.iostream.OutStream object at 0x000001A1DFCE9E88>,\n",
       "               max_eval_time_mins=5, max_time_mins=None, memory=None,\n",
       "               mutation_rate=0.9, n_jobs=1, offspring_size=None,\n",
       "               periodic_checkpoint_folder=None, population_size=20,\n",
       "               random_state=None, scoring=None, subsample=1.0, template=None,\n",
       "               use_dask=False, verbosity=2, warm_start=False)"
      ]
     },
     "execution_count": 23,
     "metadata": {},
     "output_type": "execute_result"
    }
   ],
   "source": [
    "tpot.fit(X_train, y_train)"
   ]
  },
  {
   "cell_type": "code",
   "execution_count": null,
   "metadata": {},
   "outputs": [],
   "source": [
    "tpot.export('Default_pipeline1.py')  "
   ]
  },
  {
   "cell_type": "code",
   "execution_count": 24,
   "metadata": {},
   "outputs": [
    {
     "name": "stdout",
     "output_type": "stream",
     "text": [
      "0.9696969696969697\n"
     ]
    }
   ],
   "source": [
    "print(tpot.score(X_test, y_test))"
   ]
  },
  {
   "cell_type": "code",
   "execution_count": 25,
   "metadata": {},
   "outputs": [
    {
     "name": "stdout",
     "output_type": "stream",
     "text": [
      "0.95\n",
      "Average precision-recall score: 0.93\n",
      "precision_score: 1.00\n",
      "recall_score: 0.90\n"
     ]
    }
   ],
   "source": [
    "y_predDefault = tpot.predict(X_test)\n",
    "\n",
    "roc_auc_score = roc_auc_score(y_test, y_predDefault)\n",
    "print(roc_auc_score)\n",
    "\n",
    "Default_fpr, Default_tpr, _ = roc_curve(y_test,  y_predDefault)\n",
    "Default_roc_auc = auc(Default_fpr, Default_tpr)\n",
    "\n",
    "\n",
    "from sklearn.metrics import average_precision_score\n",
    "average_precision = average_precision_score(y_test, y_predDefault)\n",
    "print('Average precision-recall score: {0:0.2f}'.format(average_precision))\n",
    "\n",
    "from sklearn.metrics import precision_score\n",
    "precision_score = precision_score(y_test, y_predDefault)\n",
    "print('precision_score: {0:0.2f}'.format(precision_score))\n",
    "\n",
    "from sklearn.metrics import recall_score\n",
    "recall_score = recall_score(y_test, y_predDefault)\n",
    "print('recall_score: {0:0.2f}'.format(recall_score))"
   ]
  },
  {
   "cell_type": "markdown",
   "metadata": {},
   "source": [
    "# Decision Tree"
   ]
  },
  {
   "cell_type": "code",
   "execution_count": 46,
   "metadata": {},
   "outputs": [],
   "source": [
    "import numpy as np\n",
    "import pandas as pd\n",
    "import matplotlib.pyplot as plt\n",
    "import pandas as pd\n",
    "from tpot import TPOTClassifier\n",
    "from sklearn.model_selection import train_test_split\n",
    "from sklearn.metrics import accuracy_score\n",
    "from sklearn.metrics import roc_auc_score\n",
    "from sklearn.metrics import roc_curve, auc\n",
    "from sklearn.metrics import roc_curve \n",
    "from sklearn.preprocessing import LabelEncoder\n",
    "from sklearn.model_selection import train_test_split\n",
    "from sklearn.preprocessing import PolynomialFeatures\n",
    "from sklearn.svm import LinearSVC\n",
    "from tpot.builtins import StackingEstimator\n",
    "from sklearn.ensemble import ExtraTreesClassifier\n",
    "from sklearn import metrics\n",
    "from sklearn.metrics import roc_auc_score\n",
    "from sklearn.metrics import precision_recall_curve\n",
    "from sklearn.metrics import average_precision_score\n",
    "from sklearn.decomposition import PCA"
   ]
  },
  {
   "cell_type": "code",
   "execution_count": 47,
   "metadata": {},
   "outputs": [],
   "source": [
    "df = pd.read_csv('C://Users//Khalis Abd Karim//Desktop//Paper 2//Balanced Paper 2 (CLAHE).csv' , sep = ',' , header = None)"
   ]
  },
  {
   "cell_type": "code",
   "execution_count": 48,
   "metadata": {},
   "outputs": [
    {
     "name": "stdout",
     "output_type": "stream",
     "text": [
      "[[2.13027000e-04 9.88238159e-01 9.88238159e-01 ... 1.49261000e+05\n",
      "  4.11038345e+02 2.29055200e+03]\n",
      " [2.41535000e-04 9.67643011e-01 9.67643011e-01 ... 6.10450000e+04\n",
      "  2.45937481e+02 2.36271600e+03]\n",
      " [1.80474000e-04 9.86331757e-01 9.86331757e-01 ... 1.40108000e+05\n",
      "  3.72257401e+02 2.34781700e+03]\n",
      " ...\n",
      " [1.33899000e-04 9.89737651e-01 9.89737651e-01 ... 1.39071100e+05\n",
      "  4.04871659e+02 1.91689200e+03]\n",
      " [1.00000000e-04 9.90361690e-01 9.90361690e-01 ... 1.31581300e+05\n",
      "  3.95803907e+02 1.71141600e+03]\n",
      " [1.05815000e-04 9.88860704e-01 9.88860704e-01 ... 1.26031600e+05\n",
      "  3.83428049e+02 1.79089560e+03]]\n",
      "[1 1 0 0 1 1 1 0 0 0 0 0 0 1 1 0 0 0 0 1 1 1 0 0 0 0 0 0 0 0 0 0 0 0 0 0 0\n",
      " 0 0 0 0 0 0 0 0 0 0 0 0 0 0 0 0 0 0 0 0 0 0 0 0 0 0 0 0 0 0 0 0 0 0 0 0 0\n",
      " 0 0 0 0 0 0 0 0 0 0 0 0 0 0 0 0 0 0 0 0 0 0 0 0 0 0 1 1 1 1 1 1 1 1 1 1 1\n",
      " 1 1 1 1 1 1 1 1 1 1 1 1 1 1 1 1 1 1 1]\n"
     ]
    }
   ],
   "source": [
    "X = df.iloc[ : , 1:34].values\n",
    "Y = df.iloc[ : , 34].values\n",
    "print (X)\n",
    "print(Y)"
   ]
  },
  {
   "cell_type": "code",
   "execution_count": 49,
   "metadata": {},
   "outputs": [],
   "source": [
    "X_train, X_test, y_train, y_test = train_test_split(X, Y, train_size=0.75, test_size=0.25)"
   ]
  },
  {
   "cell_type": "code",
   "execution_count": 50,
   "metadata": {},
   "outputs": [],
   "source": [
    "tpot_config = {\n",
    "'sklearn.tree.DecisionTreeClassifier': {\n",
    "        'criterion': [\"gini\", \"entropy\"],\n",
    "        'max_depth': range(1, 11),\n",
    "        'min_samples_split': range(2, 21),\n",
    "        'min_samples_leaf': range(1, 21)\n",
    "    },\n",
    "}"
   ]
  },
  {
   "cell_type": "code",
   "execution_count": 51,
   "metadata": {},
   "outputs": [],
   "source": [
    "tpot = TPOTClassifier(generations=50, population_size=20, verbosity=2,config_dict=tpot_config)"
   ]
  },
  {
   "cell_type": "code",
   "execution_count": 52,
   "metadata": {},
   "outputs": [
    {
     "data": {
      "application/vnd.jupyter.widget-view+json": {
       "model_id": "",
       "version_major": 2,
       "version_minor": 0
      },
      "text/plain": [
       "HBox(children=(FloatProgress(value=0.0, description='Optimization Progress', max=1020.0, style=ProgressStyle(d…"
      ]
     },
     "metadata": {},
     "output_type": "display_data"
    },
    {
     "name": "stdout",
     "output_type": "stream",
     "text": [
      "Generation 1 - Current best internal CV score: 0.7636842105263157\n",
      "Generation 2 - Current best internal CV score: 0.7952631578947369\n",
      "Generation 3 - Current best internal CV score: 0.7952631578947369\n",
      "Generation 4 - Current best internal CV score: 0.7952631578947369\n",
      "Generation 5 - Current best internal CV score: 0.7952631578947369\n",
      "Generation 6 - Current best internal CV score: 0.7952631578947369\n",
      "Generation 7 - Current best internal CV score: 0.8036842105263157\n",
      "Generation 8 - Current best internal CV score: 0.8036842105263157\n",
      "Generation 9 - Current best internal CV score: 0.8052631578947368\n",
      "Generation 10 - Current best internal CV score: 0.8057894736842105\n",
      "Generation 11 - Current best internal CV score: 0.8057894736842105\n",
      "Generation 12 - Current best internal CV score: 0.8057894736842105\n",
      "Generation 13 - Current best internal CV score: 0.8247368421052631\n",
      "Generation 14 - Current best internal CV score: 0.8247368421052631\n",
      "Generation 15 - Current best internal CV score: 0.8247368421052631\n",
      "Generation 16 - Current best internal CV score: 0.8247368421052631\n",
      "Generation 17 - Current best internal CV score: 0.8563157894736841\n",
      "Generation 18 - Current best internal CV score: 0.8668421052631577\n",
      "Generation 19 - Current best internal CV score: 0.8668421052631577\n",
      "Generation 20 - Current best internal CV score: 0.8668421052631577\n",
      "Generation 21 - Current best internal CV score: 0.8668421052631577\n",
      "Generation 22 - Current best internal CV score: 0.8668421052631577\n",
      "Generation 23 - Current best internal CV score: 0.8668421052631577\n",
      "Generation 24 - Current best internal CV score: 0.8668421052631577\n",
      "Generation 25 - Current best internal CV score: 0.8668421052631577\n",
      "Generation 26 - Current best internal CV score: 0.8668421052631577\n",
      "Generation 27 - Current best internal CV score: 0.8668421052631577\n",
      "Generation 28 - Current best internal CV score: 0.8668421052631577\n",
      "Generation 29 - Current best internal CV score: 0.8668421052631577\n",
      "Generation 30 - Current best internal CV score: 0.866842105263158\n",
      "Generation 31 - Current best internal CV score: 0.866842105263158\n",
      "Generation 32 - Current best internal CV score: 0.866842105263158\n",
      "Generation 33 - Current best internal CV score: 0.8778947368421053\n",
      "Generation 34 - Current best internal CV score: 0.8778947368421053\n",
      "Generation 35 - Current best internal CV score: 0.8778947368421053\n",
      "Generation 36 - Current best internal CV score: 0.8778947368421053\n",
      "Generation 37 - Current best internal CV score: 0.8778947368421053\n",
      "Generation 38 - Current best internal CV score: 0.8778947368421053\n",
      "Generation 39 - Current best internal CV score: 0.8778947368421053\n",
      "Generation 40 - Current best internal CV score: 0.8778947368421053\n",
      "Generation 41 - Current best internal CV score: 0.8778947368421053\n",
      "Generation 42 - Current best internal CV score: 0.8778947368421053\n",
      "Generation 43 - Current best internal CV score: 0.8778947368421053\n",
      "Generation 44 - Current best internal CV score: 0.8778947368421053\n",
      "Generation 45 - Current best internal CV score: 0.8778947368421053\n",
      "Generation 46 - Current best internal CV score: 0.8778947368421053\n",
      "Generation 47 - Current best internal CV score: 0.8778947368421053\n",
      "Generation 48 - Current best internal CV score: 0.8778947368421053\n",
      "Generation 49 - Current best internal CV score: 0.8778947368421053\n",
      "Generation 50 - Current best internal CV score: 0.8778947368421053\n",
      "\n",
      "Best pipeline: DecisionTreeClassifier(CombineDFs(input_matrix, DecisionTreeClassifier(DecisionTreeClassifier(CombineDFs(CombineDFs(input_matrix, input_matrix), input_matrix), criterion=gini, max_depth=3, min_samples_leaf=10, min_samples_split=7), criterion=gini, max_depth=7, min_samples_leaf=18, min_samples_split=15)), criterion=entropy, max_depth=9, min_samples_leaf=3, min_samples_split=9)\n",
      "0.7878787878787878\n",
      "0.7954545454545454\n",
      "Average precision-recall score: 0.59\n",
      "precision_score: 0.64\n",
      "recall_score: 0.82\n"
     ]
    }
   ],
   "source": [
    "tpot.fit(X_train, y_train)\n",
    "tpot.export('DTexported_pipelinebaru.py') \n",
    "print(tpot.score(X_test, y_test))\n",
    "\n",
    "y_predDT = tpot.predict(X_test)\n",
    "\n",
    "roc_auc_score = roc_auc_score(y_test, y_predDT)\n",
    "print(roc_auc_score)\n",
    "\n",
    "DT_fpr, DT_tpr, _ = roc_curve(y_test,  y_predDT)\n",
    "DT_roc_auc = auc(DT_fpr, DT_tpr)\n",
    "\n",
    "\n",
    "from sklearn.metrics import average_precision_score\n",
    "average_precision = average_precision_score(y_test, y_predDT)\n",
    "print('Average precision-recall score: {0:0.2f}'.format(average_precision))\n",
    "\n",
    "from sklearn.metrics import precision_score\n",
    "precision_score = precision_score(y_test, y_predDT)\n",
    "print('precision_score: {0:0.2f}'.format(precision_score))\n",
    "\n",
    "from sklearn.metrics import recall_score\n",
    "recall_score = recall_score(y_test, y_predDT)\n",
    "print('recall_score: {0:0.2f}'.format(recall_score))"
   ]
  },
  {
   "cell_type": "markdown",
   "metadata": {},
   "source": [
    "# Random Forest"
   ]
  },
  {
   "cell_type": "code",
   "execution_count": 1232,
   "metadata": {},
   "outputs": [],
   "source": [
    "import numpy as np\n",
    "import pandas as pd\n",
    "import matplotlib.pyplot as plt\n",
    "import pandas as pd\n",
    "from tpot import TPOTClassifier\n",
    "from sklearn.model_selection import train_test_split\n",
    "from sklearn.metrics import accuracy_score\n",
    "from sklearn.metrics import roc_auc_score\n",
    "from sklearn.metrics import roc_curve, auc\n",
    "from sklearn.metrics import roc_curve \n",
    "from sklearn.preprocessing import LabelEncoder\n",
    "from sklearn.model_selection import train_test_split\n",
    "from sklearn.preprocessing import PolynomialFeatures\n",
    "from sklearn.svm import LinearSVC\n",
    "from tpot.builtins import StackingEstimator\n",
    "from sklearn.ensemble import ExtraTreesClassifier\n",
    "from sklearn import metrics\n",
    "from sklearn.metrics import roc_auc_score\n",
    "from sklearn.metrics import precision_recall_curve\n",
    "from sklearn.metrics import average_precision_score\n",
    "from sklearn.decomposition import PCA"
   ]
  },
  {
   "cell_type": "code",
   "execution_count": 1233,
   "metadata": {},
   "outputs": [],
   "source": [
    "df = pd.read_csv('C://Users//Khalis Abd Karim//Desktop//Paper 2//Balanced Paper 2 (CLAHE).csv' , sep = ',' , header = None)"
   ]
  },
  {
   "cell_type": "code",
   "execution_count": 1234,
   "metadata": {},
   "outputs": [
    {
     "name": "stdout",
     "output_type": "stream",
     "text": [
      "[[2.13027000e-04 9.88238159e-01 9.88238159e-01 ... 1.49261000e+05\n",
      "  4.11038345e+02 2.29055200e+03]\n",
      " [2.41535000e-04 9.67643011e-01 9.67643011e-01 ... 6.10450000e+04\n",
      "  2.45937481e+02 2.36271600e+03]\n",
      " [1.80474000e-04 9.86331757e-01 9.86331757e-01 ... 1.40108000e+05\n",
      "  3.72257401e+02 2.34781700e+03]\n",
      " ...\n",
      " [1.33899000e-04 9.89737651e-01 9.89737651e-01 ... 1.39071100e+05\n",
      "  4.04871659e+02 1.91689200e+03]\n",
      " [1.00000000e-04 9.90361690e-01 9.90361690e-01 ... 1.31581300e+05\n",
      "  3.95803907e+02 1.71141600e+03]\n",
      " [1.05815000e-04 9.88860704e-01 9.88860704e-01 ... 1.26031600e+05\n",
      "  3.83428049e+02 1.79089560e+03]]\n",
      "[1 1 0 0 1 1 1 0 0 0 0 0 0 1 1 0 0 0 0 1 1 1 0 0 0 0 0 0 0 0 0 0 0 0 0 0 0\n",
      " 0 0 0 0 0 0 0 0 0 0 0 0 0 0 0 0 0 0 0 0 0 0 0 0 0 0 0 0 0 0 0 0 0 0 0 0 0\n",
      " 0 0 0 0 0 0 0 0 0 0 0 0 0 0 0 0 0 0 0 0 0 0 0 0 0 0 1 1 1 1 1 1 1 1 1 1 1\n",
      " 1 1 1 1 1 1 1 1 1 1 1 1 1 1 1 1 1 1 1]\n"
     ]
    }
   ],
   "source": [
    "X = df.iloc[ : , 1:34].values\n",
    "Y = df.iloc[ : , 34].values\n",
    "print (X)\n",
    "print(Y)"
   ]
  },
  {
   "cell_type": "code",
   "execution_count": 1235,
   "metadata": {},
   "outputs": [],
   "source": [
    "X_train, X_test, y_train, y_test = train_test_split(X, Y, train_size=0.75, test_size=0.25)"
   ]
  },
  {
   "cell_type": "code",
   "execution_count": 1236,
   "metadata": {},
   "outputs": [],
   "source": [
    "tpot_config = {\n",
    "    'sklearn.ensemble.RandomForestClassifier': {\n",
    "        'n_estimators': [100],\n",
    "        'criterion': [\"gini\", \"entropy\"],\n",
    "        'max_features': np.arange(0.05, 1.01, 0.05),\n",
    "        'min_samples_split': range(2, 21),\n",
    "        'min_samples_leaf':  range(1, 21),\n",
    "        'bootstrap': [True, False]\n",
    "    },\n",
    "}"
   ]
  },
  {
   "cell_type": "code",
   "execution_count": null,
   "metadata": {},
   "outputs": [],
   "source": [
    "tpot = TPOTClassifier(generations=50, population_size=20, verbosity=2,config_dict=tpot_config)"
   ]
  },
  {
   "cell_type": "code",
   "execution_count": 1237,
   "metadata": {},
   "outputs": [
    {
     "name": "stdout",
     "output_type": "stream",
     "text": [
      "0.9090909090909091\n",
      "0.8796296296296298\n",
      "Average precision-recall score: 0.63\n",
      "precision_score: 0.71\n",
      "recall_score: 0.83\n"
     ]
    }
   ],
   "source": [
    "tpot.fit(X_train, y_train)\n",
    "tpot.export('RFexported_pipelinebaru.py') \n",
    "print(tpot.score(X_test, y_test))\n",
    "\n",
    "y_predRF = tpot.predict(X_test)\n",
    "roc_auc_score(y_test, y_predRF)\n",
    "print(roc_auc_score)\n",
    "\n",
    "from sklearn.metrics import average_precision_score\n",
    "average_precision = average_precision_score(y_test, y_predRF)\n",
    "print('Average precision-recall score: {0:0.2f}'.format(average_precision))\n",
    "\n",
    "from sklearn.metrics import precision_score\n",
    "precision_score = precision_score(y_test, y_predRF)\n",
    "print('precision_score: {0:0.2f}'.format(precision_score))\n",
    "\n",
    "from sklearn.metrics import recall_score\n",
    "recall_score = recall_score(y_test, y_predRF)\n",
    "print('recall_score: {0:0.2f}'.format(recall_score))"
   ]
  },
  {
   "cell_type": "markdown",
   "metadata": {},
   "source": [
    "# Logistic Regression"
   ]
  },
  {
   "cell_type": "code",
   "execution_count": 1238,
   "metadata": {},
   "outputs": [],
   "source": [
    "import numpy as np\n",
    "import pandas as pd\n",
    "import matplotlib.pyplot as plt\n",
    "import pandas as pd\n",
    "from tpot import TPOTClassifier\n",
    "from sklearn.model_selection import train_test_split\n",
    "from sklearn.metrics import accuracy_score\n",
    "from sklearn.metrics import roc_auc_score\n",
    "from sklearn.metrics import roc_curve, auc\n",
    "from sklearn.metrics import roc_curve \n",
    "from sklearn.preprocessing import LabelEncoder\n",
    "from sklearn.model_selection import train_test_split\n",
    "from sklearn.preprocessing import PolynomialFeatures\n",
    "from sklearn.svm import LinearSVC\n",
    "from tpot.builtins import StackingEstimator\n",
    "from sklearn.ensemble import ExtraTreesClassifier\n",
    "from sklearn import metrics\n",
    "from sklearn.metrics import roc_auc_score\n",
    "from sklearn.metrics import precision_recall_curve\n",
    "from sklearn.metrics import average_precision_score\n",
    "from sklearn.decomposition import PCA"
   ]
  },
  {
   "cell_type": "code",
   "execution_count": 1239,
   "metadata": {},
   "outputs": [],
   "source": [
    "df = pd.read_csv('C://Users//Khalis Abd Karim//Desktop//Paper 2//Balanced Paper 2 (CLAHE).csv' , sep = ',' , header = None)"
   ]
  },
  {
   "cell_type": "code",
   "execution_count": 1240,
   "metadata": {},
   "outputs": [
    {
     "name": "stdout",
     "output_type": "stream",
     "text": [
      "[[2.13027000e-04 9.88238159e-01 9.88238159e-01 ... 1.49261000e+05\n",
      "  4.11038345e+02 2.29055200e+03]\n",
      " [2.41535000e-04 9.67643011e-01 9.67643011e-01 ... 6.10450000e+04\n",
      "  2.45937481e+02 2.36271600e+03]\n",
      " [1.80474000e-04 9.86331757e-01 9.86331757e-01 ... 1.40108000e+05\n",
      "  3.72257401e+02 2.34781700e+03]\n",
      " ...\n",
      " [1.33899000e-04 9.89737651e-01 9.89737651e-01 ... 1.39071100e+05\n",
      "  4.04871659e+02 1.91689200e+03]\n",
      " [1.00000000e-04 9.90361690e-01 9.90361690e-01 ... 1.31581300e+05\n",
      "  3.95803907e+02 1.71141600e+03]\n",
      " [1.05815000e-04 9.88860704e-01 9.88860704e-01 ... 1.26031600e+05\n",
      "  3.83428049e+02 1.79089560e+03]]\n",
      "[1 1 0 0 1 1 1 0 0 0 0 0 0 1 1 0 0 0 0 1 1 1 0 0 0 0 0 0 0 0 0 0 0 0 0 0 0\n",
      " 0 0 0 0 0 0 0 0 0 0 0 0 0 0 0 0 0 0 0 0 0 0 0 0 0 0 0 0 0 0 0 0 0 0 0 0 0\n",
      " 0 0 0 0 0 0 0 0 0 0 0 0 0 0 0 0 0 0 0 0 0 0 0 0 0 0 1 1 1 1 1 1 1 1 1 1 1\n",
      " 1 1 1 1 1 1 1 1 1 1 1 1 1 1 1 1 1 1 1]\n"
     ]
    }
   ],
   "source": [
    "X = df.iloc[ : , 1:34].values\n",
    "Y = df.iloc[ : , 34].values\n",
    "print (X)\n",
    "print(Y)"
   ]
  },
  {
   "cell_type": "code",
   "execution_count": 1241,
   "metadata": {},
   "outputs": [],
   "source": [
    "X_train, X_test, y_train, y_test = train_test_split(X, Y, train_size=0.75, test_size=0.25)"
   ]
  },
  {
   "cell_type": "code",
   "execution_count": 1242,
   "metadata": {},
   "outputs": [],
   "source": [
    "tpot_config = {\n",
    "    'sklearn.linear_model.LogisticRegression': {\n",
    "        'penalty': [\"l1\", \"l2\"],\n",
    "        'C': [0.001,0.01,0.1,1,10,100,1000],\n",
    "        'dual': [True, False]\n",
    "    },\n",
    "}"
   ]
  },
  {
   "cell_type": "code",
   "execution_count": null,
   "metadata": {},
   "outputs": [],
   "source": [
    "tpot = TPOTClassifier(generations=50, population_size=20, verbosity=2,config_dict=tpot_config)"
   ]
  },
  {
   "cell_type": "code",
   "execution_count": null,
   "metadata": {},
   "outputs": [],
   "source": [
    "tpot.fit(X_train, y_train)\n",
    "tpot.export('LRexported_pipelinebaru.py') \n",
    "print(tpot.score(X_test, y_test))\n",
    "\n",
    "y_predLR = tpot.predict(X_test)\n",
    "roc_auc_score(y_test, y_predLR)\n",
    "print(roc_auc_score)\n",
    "\n",
    "from sklearn.metrics import average_precision_score\n",
    "average_precision = average_precision_score(y_test, y_predLR)\n",
    "print('Average precision-recall score: {0:0.2f}'.format(average_precision))\n",
    "\n",
    "from sklearn.metrics import precision_score\n",
    "precision_score = precision_score(y_test, y_predLR)\n",
    "print('precision_score: {0:0.2f}'.format(precision_score))\n",
    "\n",
    "from sklearn.metrics import recall_score\n",
    "recall_score = recall_score(y_test, y_predLR)\n",
    "print('recall_score: {0:0.2f}'.format(recall_score))"
   ]
  },
  {
   "cell_type": "markdown",
   "metadata": {},
   "source": [
    "# KNN"
   ]
  },
  {
   "cell_type": "code",
   "execution_count": 1549,
   "metadata": {},
   "outputs": [],
   "source": [
    "import numpy as np\n",
    "import pandas as pd\n",
    "import matplotlib.pyplot as plt\n",
    "import pandas as pd\n",
    "from tpot import TPOTClassifier\n",
    "from sklearn.model_selection import train_test_split\n",
    "from sklearn.metrics import accuracy_score\n",
    "from sklearn.metrics import roc_auc_score\n",
    "from sklearn.metrics import roc_curve, auc\n",
    "from sklearn.metrics import roc_curve \n",
    "from sklearn.preprocessing import LabelEncoder\n",
    "from sklearn.model_selection import train_test_split\n",
    "from sklearn.preprocessing import PolynomialFeatures\n",
    "from sklearn.svm import LinearSVC\n",
    "from tpot.builtins import StackingEstimator\n",
    "from sklearn.neighbors import KNeighborsClassifier\n",
    "from sklearn import metrics\n",
    "from sklearn.metrics import roc_auc_score\n",
    "from sklearn.metrics import precision_recall_curve\n",
    "from sklearn.metrics import average_precision_score\n",
    "from sklearn.decomposition import PCA"
   ]
  },
  {
   "cell_type": "code",
   "execution_count": 1550,
   "metadata": {},
   "outputs": [],
   "source": [
    "df = pd.read_csv('C://Users//Khalis Abd Karim//Desktop//Paper 2//Balanced Paper 2 (CLAHE).csv' , sep = ',' , header = None)"
   ]
  },
  {
   "cell_type": "code",
   "execution_count": 1551,
   "metadata": {},
   "outputs": [
    {
     "name": "stdout",
     "output_type": "stream",
     "text": [
      "[[2.13027000e-04 9.88238159e-01 9.88238159e-01 ... 1.49261000e+05\n",
      "  4.11038345e+02 2.29055200e+03]\n",
      " [2.41535000e-04 9.67643011e-01 9.67643011e-01 ... 6.10450000e+04\n",
      "  2.45937481e+02 2.36271600e+03]\n",
      " [1.80474000e-04 9.86331757e-01 9.86331757e-01 ... 1.40108000e+05\n",
      "  3.72257401e+02 2.34781700e+03]\n",
      " ...\n",
      " [1.33899000e-04 9.89737651e-01 9.89737651e-01 ... 1.39071100e+05\n",
      "  4.04871659e+02 1.91689200e+03]\n",
      " [1.00000000e-04 9.90361690e-01 9.90361690e-01 ... 1.31581300e+05\n",
      "  3.95803907e+02 1.71141600e+03]\n",
      " [1.05815000e-04 9.88860704e-01 9.88860704e-01 ... 1.26031600e+05\n",
      "  3.83428049e+02 1.79089560e+03]]\n",
      "[1 1 0 0 1 1 1 0 0 0 0 0 0 1 1 0 0 0 0 1 1 1 0 0 0 0 0 0 0 0 0 0 0 0 0 0 0\n",
      " 0 0 0 0 0 0 0 0 0 0 0 0 0 0 0 0 0 0 0 0 0 0 0 0 0 0 0 0 0 0 0 0 0 0 0 0 0\n",
      " 0 0 0 0 0 0 0 0 0 0 0 0 0 0 0 0 0 0 0 0 0 0 0 0 0 0 1 1 1 1 1 1 1 1 1 1 1\n",
      " 1 1 1 1 1 1 1 1 1 1 1 1 1 1 1 1 1 1 1]\n"
     ]
    }
   ],
   "source": [
    "X = df.iloc[ : , 1:34].values\n",
    "Y = df.iloc[ : , 34].values\n",
    "print (X)\n",
    "print(Y)"
   ]
  },
  {
   "cell_type": "code",
   "execution_count": 1552,
   "metadata": {},
   "outputs": [],
   "source": [
    "X_train, X_test, y_train, y_test = train_test_split(X, Y, train_size=0.75, test_size=0.25)"
   ]
  },
  {
   "cell_type": "code",
   "execution_count": 1553,
   "metadata": {},
   "outputs": [],
   "source": [
    "tpot_config = {\n",
    "    'sklearn.neighbors.KNeighborsClassifier': {\n",
    "        'n_neighbors': range(1, 101),\n",
    "        'weights': [\"uniform\", \"distance\"],\n",
    "        'p': [1, 2]\n",
    "    },\n",
    "}"
   ]
  },
  {
   "cell_type": "code",
   "execution_count": null,
   "metadata": {},
   "outputs": [],
   "source": [
    "tpot = TPOTClassifier(generations=50, population_size=20, verbosity=2,config_dict=tpot_config)"
   ]
  },
  {
   "cell_type": "code",
   "execution_count": 1554,
   "metadata": {},
   "outputs": [
    {
     "name": "stdout",
     "output_type": "stream",
     "text": [
      "0.8787878787878788\n",
      "0.8665413533834586\n",
      "Average precision-recall score: 0.81\n",
      "precision_score: 0.92\n",
      "recall_score: 0.79\n"
     ]
    }
   ],
   "source": [
    "tpot.fit(X_train, y_train)\n",
    "tpot.export('KNNexported_pipelinebaru.py') \n",
    "print(tpot.score(X_test, y_test))\n",
    "\n",
    "y_predKNN = tpot.predict(X_test)\n",
    "roc_auc_score(y_test, y_predKNN)\n",
    "print(roc_auc_score)\n",
    "\n",
    "from sklearn.metrics import average_precision_score\n",
    "average_precision = average_precision_score(y_test, y_predKNN)\n",
    "print('Average precision-recall score: {0:0.2f}'.format(average_precision))\n",
    "\n",
    "from sklearn.metrics import precision_score\n",
    "precision_score = precision_score(y_test, y_predKNN)\n",
    "print('precision_score: {0:0.2f}'.format(precision_score))\n",
    "\n",
    "from sklearn.metrics import recall_score\n",
    "recall_score = recall_score(y_test, y_predKNN)\n",
    "print('recall_score: {0:0.2f}'.format(recall_score))"
   ]
  },
  {
   "cell_type": "markdown",
   "metadata": {},
   "source": [
    "# Gradient Boosting Classifier"
   ]
  },
  {
   "cell_type": "code",
   "execution_count": 1627,
   "metadata": {},
   "outputs": [],
   "source": [
    "import numpy as np\n",
    "import pandas as pd\n",
    "import matplotlib.pyplot as plt\n",
    "import pandas as pd\n",
    "from tpot import TPOTClassifier\n",
    "from sklearn.model_selection import train_test_split\n",
    "from sklearn.metrics import accuracy_score\n",
    "from sklearn.metrics import roc_auc_score\n",
    "from sklearn.metrics import roc_curve, auc\n",
    "from sklearn.metrics import roc_curve \n",
    "from sklearn.preprocessing import LabelEncoder\n",
    "from sklearn.model_selection import train_test_split\n",
    "from sklearn.preprocessing import PolynomialFeatures\n",
    "from sklearn.svm import LinearSVC\n",
    "from tpot.builtins import StackingEstimator\n",
    "from sklearn.ensemble import ExtraTreesClassifier\n",
    "from sklearn import metrics\n",
    "from sklearn.metrics import roc_auc_score\n",
    "from sklearn.metrics import precision_recall_curve\n",
    "from sklearn.metrics import average_precision_score\n",
    "from sklearn.ensemble import GradientBoostingClassifier\n",
    "from sklearn.model_selection import train_test_split\n",
    "from sklearn.pipeline import make_pipeline, make_union\n",
    "from tpot.builtins import StackingEstimator\n",
    "from sklearn.preprocessing import FunctionTransformer\n",
    "from copy import copy"
   ]
  },
  {
   "cell_type": "code",
   "execution_count": 1628,
   "metadata": {},
   "outputs": [],
   "source": [
    "df = pd.read_csv('C://Users//Khalis Abd Karim//Desktop//Paper 2//Balanced Paper 2 (CLAHE).csv' , sep = ',' , header = None)"
   ]
  },
  {
   "cell_type": "code",
   "execution_count": null,
   "metadata": {},
   "outputs": [],
   "source": [
    "X = df.iloc[ : , 1:34].values\n",
    "Y = df.iloc[ : , 34].values\n",
    "print (X)\n",
    "print(Y)"
   ]
  },
  {
   "cell_type": "code",
   "execution_count": 1630,
   "metadata": {},
   "outputs": [],
   "source": [
    "X_train, X_test, y_train, y_test = train_test_split(X, Y, train_size=0.75, test_size=0.25)"
   ]
  },
  {
   "cell_type": "code",
   "execution_count": null,
   "metadata": {},
   "outputs": [],
   "source": [
    "tpot_config = {\n",
    " 'sklearn.ensemble.GradientBoostingClassifier': {\n",
    "        'n_estimators': [100],\n",
    "        'learning_rate': [1e-3, 1e-2, 1e-1, 0.5, 1.],\n",
    "        'max_depth': range(1, 11),\n",
    "        'min_samples_split': range(2, 21),\n",
    "        'min_samples_leaf': range(1, 21),\n",
    "        'subsample': np.arange(0.05, 1.01, 0.05),\n",
    "        'max_features': np.arange(0.05, 1.01, 0.05)\n",
    "    },\n",
    "}"
   ]
  },
  {
   "cell_type": "code",
   "execution_count": 1631,
   "metadata": {},
   "outputs": [],
   "source": [
    "tpot.fit(X_train, y_train)\n",
    "tpot.export('LRexported_pipelinebaru.py') \n",
    "print(tpot.score(X_test, y_test))\n",
    "\n",
    "y_predLR = tpot.predict(X_test)\n",
    "roc_auc_score(y_test, y_predLR)\n",
    "print(roc_auc_score)"
   ]
  },
  {
   "cell_type": "code",
   "execution_count": 1651,
   "metadata": {},
   "outputs": [
    {
     "name": "stdout",
     "output_type": "stream",
     "text": [
      "0.9090909090909091\n",
      "0.9065217391304348\n",
      "Average precision-recall score: 0.77\n",
      "precision_score: 0.82\n",
      "recall_score: 0.90\n"
     ]
    }
   ],
   "source": [
    "tpot.fit(X_train, y_train)\n",
    "tpot.export('GBCexported_pipelinebaru.py') \n",
    "print(tpot.score(X_test, y_test))\n",
    "\n",
    "y_predGBC = tpot.predict(X_test)\n",
    "roc_auc_score(y_test, y_predGBC)\n",
    "print(roc_auc_score)\n",
    "\n",
    "from sklearn.metrics import average_precision_score\n",
    "average_precision = average_precision_score(y_test, y_predGBC)\n",
    "print('Average precision-recall score: {0:0.2f}'.format(average_precision))\n",
    "\n",
    "from sklearn.metrics import precision_score\n",
    "precision_score = precision_score(y_test, y_predGBC)\n",
    "print('precision_score: {0:0.2f}'.format(precision_score))\n",
    "\n",
    "from sklearn.metrics import recall_score\n",
    "recall_score = recall_score(y_test, y_predGBC)\n",
    "print('recall_score: {0:0.2f}'.format(recall_score))"
   ]
  },
  {
   "cell_type": "markdown",
   "metadata": {},
   "source": [
    "# ROC EVERYTHING"
   ]
  },
  {
   "cell_type": "code",
   "execution_count": 57,
   "metadata": {},
   "outputs": [
    {
     "ename": "NameError",
     "evalue": "name 'y_predRF' is not defined",
     "output_type": "error",
     "traceback": [
      "\u001b[1;31m---------------------------------------------------------------------------\u001b[0m",
      "\u001b[1;31mNameError\u001b[0m                                 Traceback (most recent call last)",
      "\u001b[1;32m<ipython-input-57-a15f296a97e4>\u001b[0m in \u001b[0;36m<module>\u001b[1;34m\u001b[0m\n\u001b[0;32m      8\u001b[0m \u001b[0mauc_DT\u001b[0m \u001b[1;33m=\u001b[0m \u001b[0mauc\u001b[0m\u001b[1;33m(\u001b[0m\u001b[0mDT_fpr\u001b[0m\u001b[1;33m,\u001b[0m \u001b[0mDT_tpr\u001b[0m\u001b[1;33m)\u001b[0m\u001b[1;33m\u001b[0m\u001b[1;33m\u001b[0m\u001b[0m\n\u001b[0;32m      9\u001b[0m \u001b[1;33m\u001b[0m\u001b[0m\n\u001b[1;32m---> 10\u001b[1;33m \u001b[0mRF_fpr\u001b[0m\u001b[1;33m,\u001b[0m \u001b[0mRF_tpr\u001b[0m\u001b[1;33m,\u001b[0m \u001b[0mthreshold\u001b[0m  \u001b[1;33m=\u001b[0m \u001b[0mroc_curve\u001b[0m\u001b[1;33m(\u001b[0m\u001b[0my_test\u001b[0m\u001b[1;33m,\u001b[0m\u001b[0my_predRF\u001b[0m\u001b[1;33m)\u001b[0m\u001b[1;33m\u001b[0m\u001b[1;33m\u001b[0m\u001b[0m\n\u001b[0m\u001b[0;32m     11\u001b[0m \u001b[0mauc_RF\u001b[0m \u001b[1;33m=\u001b[0m \u001b[0mauc\u001b[0m\u001b[1;33m(\u001b[0m\u001b[0mRF_fpr\u001b[0m\u001b[1;33m,\u001b[0m \u001b[0mRF_tpr\u001b[0m\u001b[1;33m)\u001b[0m\u001b[1;33m\u001b[0m\u001b[1;33m\u001b[0m\u001b[0m\n\u001b[0;32m     12\u001b[0m \u001b[1;33m\u001b[0m\u001b[0m\n",
      "\u001b[1;31mNameError\u001b[0m: name 'y_predRF' is not defined"
     ]
    }
   ],
   "source": [
    "from sklearn.metrics import roc_curve, auc\n",
    "from sklearn.metrics import roc_auc_score\n",
    "\n",
    "default_fpr, default_tpr, threshold = roc_curve(y_test, y_predDefault)\n",
    "auc_default = auc(default_fpr, default_tpr)\n",
    "\n",
    "DT_fpr, DT_tpr, threshold  = roc_curve(y_test, y_predDT)\n",
    "auc_DT = auc(DT_fpr, DT_tpr)\n",
    "\n",
    "RF_fpr, RF_tpr, threshold  = roc_curve(y_test,y_predRF)\n",
    "auc_RF = auc(RF_fpr, RF_tpr)\n",
    "\n",
    "LR_fpr, LR_tpr, threshold  = roc_curve(y_test,y_predLR)\n",
    "auc_LR = auc(LR_fpr, LR_tpr)\n",
    "\n",
    "KNN_fpr, KNN_tpr, threshold  = roc_curve(y_test, y_predKNN)\n",
    "auc_KNN = auc(KNN_fpr, KNN_tpr)\n",
    "\n",
    "GBC_fpr, GBC_tpr, threshold  = roc_curve(y_test, y_predGBC)\n",
    "auc_GBC = auc(GBC_fpr, GBC_tpr)\n",
    "\n",
    "plt.figure(figsize=(5, 5), dpi=100)\n",
    "plt.plot(default_fpr, default_tpr, linestyle='-', label= 'default(auc=%0.3f)'%auc_default)\n",
    "plt.plot(DT_fpr, DT_tpr, linestyle='-', label= 'DT(auc=%0.3f)'%auc_DT)\n",
    "plt.plot(RF_fpr,RF_tpr, linestyle='-', label= 'RF(auc=%0.3f)'%auc_RF)\n",
    "plt.plot(LR_fpr, LR_tpr, linestyle='-', label= 'LR(auc=%0.3f)'%auc_LR)\n",
    "plt.plot(KNN_fpr,KNN_tpr, linestyle='-', label= 'KNN(auc=%0.3f)'%auc_KNN)\n",
    "plt.plot(GBC_fpr, GBC_tpr, linestyle='-', label= 'GBC(auc=%0.3f)'%auc_GBC)\n",
    "\n",
    "plt.xlabel('False Positive Rate -->')\n",
    "plt.ylabel('True Positive Rate -->')\n",
    "\n",
    "plt.legend()\n",
    "\n",
    "plt.show()"
   ]
  },
  {
   "cell_type": "code",
   "execution_count": 55,
   "metadata": {},
   "outputs": [
    {
     "data": {
      "image/png": "[encoded data removed]",
      "text/plain": [
       "<Figure size 432x288 with 1 Axes>"
      ]
     },
     "metadata": {
      "needs_background": "light"
     },
     "output_type": "display_data"
    }
   ],
   "source": [
    "from sklearn.metrics import roc_curve, auc\n",
    "from sklearn.metrics import roc_auc_score\n",
    "\n",
    "default_ROC_auc=roc_auc_score(y_test, y_predDefault)\n",
    "default_fpr, default_tpr, threshold = roc_curve(y_test, y_predDefault)\n",
    "\n",
    "DT_fpr, DT_tpr, threshold  = roc_curve(y_test, y_predDT)\n",
    "auc_DT = auc(DT_fpr, DT_tpr)\n",
    "\n",
    "plt.figure()\n",
    "plt.plot(default_fpr, default_tpr, label= 'default(auc=%0.3f)'%default_ROC_auc)\n",
    "plt.plot(DT_fpr, DT_tpr, linestyle='-', label= 'DT(auc=%0.3f)'%auc_DT)\n",
    "plt.show()"
   ]
  },
  {
   "cell_type": "code",
   "execution_count": null,
   "metadata": {},
   "outputs": [],
   "source": []
  },
  {
   "cell_type": "code",
   "execution_count": null,
   "metadata": {},
   "outputs": [],
   "source": []
  }
 ],
 "metadata": {
  "kernelspec": {
   "display_name": "Python 3",
   "language": "python",
   "name": "python3"
  },
  "language_info": {
   "codemirror_mode": {
    "name": "ipython",
    "version": 3
   },
   "file_extension": ".py",
   "mimetype": "text/x-python",
   "name": "python",
   "nbconvert_exporter": "python",
   "pygments_lexer": "ipython3",
   "version": "3.7.6"
  }
 },
 "nbformat": 4,
 "nbformat_minor": 4
}
